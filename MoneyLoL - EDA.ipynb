{
 "cells": [
  {
   "cell_type": "code",
   "execution_count": 1,
   "metadata": {},
   "outputs": [],
   "source": [
    "#For the data\n",
    "import pandas as pd\n",
    "import numpy as np\n",
    "\n",
    "#For visualization\n",
    "import matplotlib.pyplot as plt\n",
    "import seaborn as sns\n",
    "%matplotlib inline"
   ]
  },
  {
   "cell_type": "code",
   "execution_count": 2,
   "metadata": {
    "scrolled": true
   },
   "outputs": [
    {
     "name": "stderr",
     "output_type": "stream",
     "text": [
      "/home/alex/anaconda3/lib/python3.6/site-packages/IPython/core/interactiveshell.py:2785: DtypeWarning: Columns (52) have mixed types. Specify dtype option on import or set low_memory=False.\n",
      "  interactivity=interactivity, compiler=compiler, result=result)\n"
     ]
    }
   ],
   "source": [
    "#Importing the data\n",
    "stats1_df = pd.read_csv(\"./leagueoflegends/stats1.csv\",sep=\",\")\n",
    "stats2_df = pd.read_csv(\"./leagueoflegends/stats2.csv\",sep=\",\")"
   ]
  },
  {
   "cell_type": "code",
   "execution_count": 3,
   "metadata": {},
   "outputs": [],
   "source": [
    "#Concat the two datasets\n",
    "stats_df = pd.concat([stats1_df,stats2_df])"
   ]
  },
  {
   "cell_type": "code",
   "execution_count": 4,
   "metadata": {},
   "outputs": [
    {
     "data": {
      "text/html": [
       "<div>\n",
       "<style scoped>\n",
       "    .dataframe tbody tr th:only-of-type {\n",
       "        vertical-align: middle;\n",
       "    }\n",
       "\n",
       "    .dataframe tbody tr th {\n",
       "        vertical-align: top;\n",
       "    }\n",
       "\n",
       "    .dataframe thead th {\n",
       "        text-align: right;\n",
       "    }\n",
       "</style>\n",
       "<table border=\"1\" class=\"dataframe\">\n",
       "  <thead>\n",
       "    <tr style=\"text-align: right;\">\n",
       "      <th></th>\n",
       "      <th>id</th>\n",
       "      <th>win</th>\n",
       "      <th>item1</th>\n",
       "      <th>item2</th>\n",
       "      <th>item3</th>\n",
       "      <th>item4</th>\n",
       "      <th>item5</th>\n",
       "      <th>item6</th>\n",
       "      <th>trinket</th>\n",
       "      <th>kills</th>\n",
       "      <th>...</th>\n",
       "      <th>neutralminionskilled</th>\n",
       "      <th>ownjunglekills</th>\n",
       "      <th>enemyjunglekills</th>\n",
       "      <th>totcctimedealt</th>\n",
       "      <th>champlvl</th>\n",
       "      <th>pinksbought</th>\n",
       "      <th>wardsbought</th>\n",
       "      <th>wardsplaced</th>\n",
       "      <th>wardskilled</th>\n",
       "      <th>firstblood</th>\n",
       "    </tr>\n",
       "  </thead>\n",
       "  <tbody>\n",
       "    <tr>\n",
       "      <th>0</th>\n",
       "      <td>9</td>\n",
       "      <td>0</td>\n",
       "      <td>3748</td>\n",
       "      <td>2003</td>\n",
       "      <td>3111</td>\n",
       "      <td>3053</td>\n",
       "      <td>1419</td>\n",
       "      <td>1042</td>\n",
       "      <td>3340</td>\n",
       "      <td>6</td>\n",
       "      <td>...</td>\n",
       "      <td>69</td>\n",
       "      <td>42</td>\n",
       "      <td>27</td>\n",
       "      <td>610</td>\n",
       "      <td>13</td>\n",
       "      <td>0</td>\n",
       "      <td>0</td>\n",
       "      <td>10</td>\n",
       "      <td>0</td>\n",
       "      <td>0</td>\n",
       "    </tr>\n",
       "    <tr>\n",
       "      <th>1</th>\n",
       "      <td>10</td>\n",
       "      <td>0</td>\n",
       "      <td>2301</td>\n",
       "      <td>3111</td>\n",
       "      <td>3190</td>\n",
       "      <td>3107</td>\n",
       "      <td>0</td>\n",
       "      <td>0</td>\n",
       "      <td>3364</td>\n",
       "      <td>0</td>\n",
       "      <td>...</td>\n",
       "      <td>1</td>\n",
       "      <td>1</td>\n",
       "      <td>0</td>\n",
       "      <td>211</td>\n",
       "      <td>14</td>\n",
       "      <td>1</td>\n",
       "      <td>0</td>\n",
       "      <td>17</td>\n",
       "      <td>3</td>\n",
       "      <td>0</td>\n",
       "    </tr>\n",
       "    <tr>\n",
       "      <th>2</th>\n",
       "      <td>11</td>\n",
       "      <td>0</td>\n",
       "      <td>1055</td>\n",
       "      <td>3072</td>\n",
       "      <td>3006</td>\n",
       "      <td>3031</td>\n",
       "      <td>3046</td>\n",
       "      <td>1036</td>\n",
       "      <td>3340</td>\n",
       "      <td>7</td>\n",
       "      <td>...</td>\n",
       "      <td>3</td>\n",
       "      <td>1</td>\n",
       "      <td>2</td>\n",
       "      <td>182</td>\n",
       "      <td>14</td>\n",
       "      <td>1</td>\n",
       "      <td>0</td>\n",
       "      <td>13</td>\n",
       "      <td>5</td>\n",
       "      <td>0</td>\n",
       "    </tr>\n",
       "    <tr>\n",
       "      <th>3</th>\n",
       "      <td>12</td>\n",
       "      <td>0</td>\n",
       "      <td>1029</td>\n",
       "      <td>3078</td>\n",
       "      <td>3156</td>\n",
       "      <td>1001</td>\n",
       "      <td>3053</td>\n",
       "      <td>0</td>\n",
       "      <td>3340</td>\n",
       "      <td>5</td>\n",
       "      <td>...</td>\n",
       "      <td>6</td>\n",
       "      <td>6</td>\n",
       "      <td>0</td>\n",
       "      <td>106</td>\n",
       "      <td>15</td>\n",
       "      <td>0</td>\n",
       "      <td>0</td>\n",
       "      <td>3</td>\n",
       "      <td>0</td>\n",
       "      <td>0</td>\n",
       "    </tr>\n",
       "    <tr>\n",
       "      <th>4</th>\n",
       "      <td>13</td>\n",
       "      <td>0</td>\n",
       "      <td>3020</td>\n",
       "      <td>1058</td>\n",
       "      <td>3198</td>\n",
       "      <td>3102</td>\n",
       "      <td>1052</td>\n",
       "      <td>1026</td>\n",
       "      <td>3340</td>\n",
       "      <td>2</td>\n",
       "      <td>...</td>\n",
       "      <td>4</td>\n",
       "      <td>3</td>\n",
       "      <td>1</td>\n",
       "      <td>159</td>\n",
       "      <td>15</td>\n",
       "      <td>0</td>\n",
       "      <td>0</td>\n",
       "      <td>10</td>\n",
       "      <td>0</td>\n",
       "      <td>0</td>\n",
       "    </tr>\n",
       "  </tbody>\n",
       "</table>\n",
       "<p>5 rows × 56 columns</p>\n",
       "</div>"
      ],
      "text/plain": [
       "   id  win  item1  item2  item3  item4  item5  item6  trinket  kills  \\\n",
       "0   9    0   3748   2003   3111   3053   1419   1042     3340      6   \n",
       "1  10    0   2301   3111   3190   3107      0      0     3364      0   \n",
       "2  11    0   1055   3072   3006   3031   3046   1036     3340      7   \n",
       "3  12    0   1029   3078   3156   1001   3053      0     3340      5   \n",
       "4  13    0   3020   1058   3198   3102   1052   1026     3340      2   \n",
       "\n",
       "      ...      neutralminionskilled  ownjunglekills  enemyjunglekills  \\\n",
       "0     ...                        69              42                27   \n",
       "1     ...                         1               1                 0   \n",
       "2     ...                         3               1                 2   \n",
       "3     ...                         6               6                 0   \n",
       "4     ...                         4               3                 1   \n",
       "\n",
       "   totcctimedealt  champlvl  pinksbought  wardsbought  wardsplaced  \\\n",
       "0             610        13            0            0           10   \n",
       "1             211        14            1            0           17   \n",
       "2             182        14            1            0           13   \n",
       "3             106        15            0            0            3   \n",
       "4             159        15            0            0           10   \n",
       "\n",
       "   wardskilled  firstblood  \n",
       "0            0           0  \n",
       "1            3           0  \n",
       "2            5           0  \n",
       "3            0           0  \n",
       "4            0           0  \n",
       "\n",
       "[5 rows x 56 columns]"
      ]
     },
     "execution_count": 4,
     "metadata": {},
     "output_type": "execute_result"
    }
   ],
   "source": [
    "stats_df.head()"
   ]
  },
  {
   "cell_type": "code",
   "execution_count": 5,
   "metadata": {
    "scrolled": true
   },
   "outputs": [
    {
     "name": "stdout",
     "output_type": "stream",
     "text": [
      "<class 'pandas.core.frame.DataFrame'>\n",
      "Int64Index: 1834517 entries, 0 to 834517\n",
      "Data columns (total 56 columns):\n",
      "id                        int64\n",
      "win                       int64\n",
      "item1                     int64\n",
      "item2                     int64\n",
      "item3                     int64\n",
      "item4                     int64\n",
      "item5                     int64\n",
      "item6                     int64\n",
      "trinket                   int64\n",
      "kills                     int64\n",
      "deaths                    int64\n",
      "assists                   int64\n",
      "largestkillingspree       int64\n",
      "largestmultikill          int64\n",
      "killingsprees             int64\n",
      "longesttimespentliving    int64\n",
      "doublekills               int64\n",
      "triplekills               int64\n",
      "quadrakills               int64\n",
      "pentakills                int64\n",
      "legendarykills            int64\n",
      "totdmgdealt               int64\n",
      "magicdmgdealt             int64\n",
      "physicaldmgdealt          int64\n",
      "truedmgdealt              int64\n",
      "largestcrit               int64\n",
      "totdmgtochamp             int64\n",
      "magicdmgtochamp           int64\n",
      "physdmgtochamp            int64\n",
      "truedmgtochamp            int64\n",
      "totheal                   int64\n",
      "totunitshealed            int64\n",
      "dmgselfmit                int64\n",
      "dmgtoobj                  int64\n",
      "dmgtoturrets              int64\n",
      "visionscore               int64\n",
      "timecc                    int64\n",
      "totdmgtaken               int64\n",
      "magicdmgtaken             int64\n",
      "physdmgtaken              int64\n",
      "truedmgtaken              int64\n",
      "goldearned                int64\n",
      "goldspent                 int64\n",
      "turretkills               int64\n",
      "inhibkills                int64\n",
      "totminionskilled          int64\n",
      "neutralminionskilled      int64\n",
      "ownjunglekills            int64\n",
      "enemyjunglekills          int64\n",
      "totcctimedealt            int64\n",
      "champlvl                  int64\n",
      "pinksbought               int64\n",
      "wardsbought               object\n",
      "wardsplaced               int64\n",
      "wardskilled               int64\n",
      "firstblood                int64\n",
      "dtypes: int64(55), object(1)\n",
      "memory usage: 797.8+ MB\n"
     ]
    }
   ],
   "source": [
    "stats_df.info()"
   ]
  },
  {
   "cell_type": "code",
   "execution_count": 6,
   "metadata": {
    "scrolled": true
   },
   "outputs": [],
   "source": [
    "#Dropping the useless columns\n",
    "col_to_drop = [\"item1\",\"item2\",\"item3\",\"item4\",\"item5\",\"item6\",\"timecc\",\"wardsbought\",'id']\n",
    "stats_df.drop(columns=col_to_drop,inplace=True)"
   ]
  },
  {
   "cell_type": "code",
   "execution_count": 7,
   "metadata": {},
   "outputs": [
    {
     "name": "stdout",
     "output_type": "stream",
     "text": [
      "0    50.000027\n",
      "1    49.999973\n",
      "Name: win, dtype: float64\n"
     ]
    },
    {
     "data": {
      "text/plain": [
       "<matplotlib.axes._subplots.AxesSubplot at 0x7fd0389fa710>"
      ]
     },
     "execution_count": 7,
     "metadata": {},
     "output_type": "execute_result"
    },
    {
     "data": {
      "image/png": "[encoded data removed]",
      "text/plain": [
       "<Figure size 432x288 with 1 Axes>"
      ]
     },
     "metadata": {},
     "output_type": "display_data"
    }
   ],
   "source": [
    "#The target that we want to predict is the column win\n",
    "print(stats_df[\"win\"].value_counts() / len(stats_df[\"win\"]) * 100)\n",
    "sns.countplot(\"win\",data=stats_df)"
   ]
  },
  {
   "cell_type": "code",
   "execution_count": 8,
   "metadata": {},
   "outputs": [
    {
     "name": "stdout",
     "output_type": "stream",
     "text": [
      "0    90.074608\n",
      "1     9.925392\n",
      "Name: firstblood, dtype: float64\n"
     ]
    },
    {
     "data": {
      "text/plain": [
       "<matplotlib.axes._subplots.AxesSubplot at 0x7fd0389990f0>"
      ]
     },
     "execution_count": 8,
     "metadata": {},
     "output_type": "execute_result"
    },
    {
     "data": {
      "image/png": "[encoded data removed]",
      "text/plain": [
       "<Figure size 432x288 with 1 Axes>"
      ]
     },
     "metadata": {},
     "output_type": "display_data"
    }
   ],
   "source": [
    "#Let's see if the firstblood can have an impact on the win rate\n",
    "print(stats_df[\"firstblood\"].value_counts() / len(stats_df[\"firstblood\"]) * 100)\n",
    "sns.countplot(\"firstblood\",data=stats_df,hue=\"win\")"
   ]
  },
  {
   "cell_type": "code",
   "execution_count": 9,
   "metadata": {},
   "outputs": [
    {
     "name": "stderr",
     "output_type": "stream",
     "text": [
      "/home/alex/anaconda3/lib/python3.6/site-packages/sklearn/cross_validation.py:41: DeprecationWarning: This module was deprecated in version 0.18 in favor of the model_selection module into which all the refactored classes and functions are moved. Also note that the interface of the new CV iterators are different from that of this module. This module will be removed in 0.20.\n",
      "  \"This module will be removed in 0.20.\", DeprecationWarning)\n"
     ]
    }
   ],
   "source": [
    "#Importing the libraries for the LogisticRegression\n",
    "from sklearn.linear_model import LogisticRegression\n",
    "from sklearn.linear_model import LogisticRegressionCV\n",
    "from sklearn.cross_validation import train_test_split\n",
    "from sklearn import metrics"
   ]
  },
  {
   "cell_type": "code",
   "execution_count": 10,
   "metadata": {},
   "outputs": [
    {
     "data": {
      "text/html": [
       "<div>\n",
       "<style scoped>\n",
       "    .dataframe tbody tr th:only-of-type {\n",
       "        vertical-align: middle;\n",
       "    }\n",
       "\n",
       "    .dataframe tbody tr th {\n",
       "        vertical-align: top;\n",
       "    }\n",
       "\n",
       "    .dataframe thead th {\n",
       "        text-align: right;\n",
       "    }\n",
       "</style>\n",
       "<table border=\"1\" class=\"dataframe\">\n",
       "  <thead>\n",
       "    <tr style=\"text-align: right;\">\n",
       "      <th></th>\n",
       "      <th>trinket</th>\n",
       "      <th>kills</th>\n",
       "      <th>deaths</th>\n",
       "      <th>assists</th>\n",
       "      <th>largestkillingspree</th>\n",
       "      <th>largestmultikill</th>\n",
       "      <th>killingsprees</th>\n",
       "      <th>longesttimespentliving</th>\n",
       "      <th>doublekills</th>\n",
       "      <th>triplekills</th>\n",
       "      <th>...</th>\n",
       "      <th>totminionskilled</th>\n",
       "      <th>neutralminionskilled</th>\n",
       "      <th>ownjunglekills</th>\n",
       "      <th>enemyjunglekills</th>\n",
       "      <th>totcctimedealt</th>\n",
       "      <th>champlvl</th>\n",
       "      <th>pinksbought</th>\n",
       "      <th>wardsplaced</th>\n",
       "      <th>wardskilled</th>\n",
       "      <th>firstblood</th>\n",
       "    </tr>\n",
       "  </thead>\n",
       "  <tbody>\n",
       "    <tr>\n",
       "      <th>0</th>\n",
       "      <td>3340</td>\n",
       "      <td>6</td>\n",
       "      <td>10</td>\n",
       "      <td>1</td>\n",
       "      <td>2</td>\n",
       "      <td>2</td>\n",
       "      <td>2</td>\n",
       "      <td>643</td>\n",
       "      <td>2</td>\n",
       "      <td>0</td>\n",
       "      <td>...</td>\n",
       "      <td>42</td>\n",
       "      <td>69</td>\n",
       "      <td>42</td>\n",
       "      <td>27</td>\n",
       "      <td>610</td>\n",
       "      <td>13</td>\n",
       "      <td>0</td>\n",
       "      <td>10</td>\n",
       "      <td>0</td>\n",
       "      <td>0</td>\n",
       "    </tr>\n",
       "    <tr>\n",
       "      <th>1</th>\n",
       "      <td>3364</td>\n",
       "      <td>0</td>\n",
       "      <td>2</td>\n",
       "      <td>12</td>\n",
       "      <td>0</td>\n",
       "      <td>0</td>\n",
       "      <td>0</td>\n",
       "      <td>1116</td>\n",
       "      <td>0</td>\n",
       "      <td>0</td>\n",
       "      <td>...</td>\n",
       "      <td>17</td>\n",
       "      <td>1</td>\n",
       "      <td>1</td>\n",
       "      <td>0</td>\n",
       "      <td>211</td>\n",
       "      <td>14</td>\n",
       "      <td>1</td>\n",
       "      <td>17</td>\n",
       "      <td>3</td>\n",
       "      <td>0</td>\n",
       "    </tr>\n",
       "    <tr>\n",
       "      <th>2</th>\n",
       "      <td>3340</td>\n",
       "      <td>7</td>\n",
       "      <td>8</td>\n",
       "      <td>5</td>\n",
       "      <td>5</td>\n",
       "      <td>2</td>\n",
       "      <td>1</td>\n",
       "      <td>584</td>\n",
       "      <td>2</td>\n",
       "      <td>0</td>\n",
       "      <td>...</td>\n",
       "      <td>205</td>\n",
       "      <td>3</td>\n",
       "      <td>1</td>\n",
       "      <td>2</td>\n",
       "      <td>182</td>\n",
       "      <td>14</td>\n",
       "      <td>1</td>\n",
       "      <td>13</td>\n",
       "      <td>5</td>\n",
       "      <td>0</td>\n",
       "    </tr>\n",
       "    <tr>\n",
       "      <th>3</th>\n",
       "      <td>3340</td>\n",
       "      <td>5</td>\n",
       "      <td>11</td>\n",
       "      <td>2</td>\n",
       "      <td>2</td>\n",
       "      <td>1</td>\n",
       "      <td>1</td>\n",
       "      <td>300</td>\n",
       "      <td>0</td>\n",
       "      <td>0</td>\n",
       "      <td>...</td>\n",
       "      <td>164</td>\n",
       "      <td>6</td>\n",
       "      <td>6</td>\n",
       "      <td>0</td>\n",
       "      <td>106</td>\n",
       "      <td>15</td>\n",
       "      <td>0</td>\n",
       "      <td>3</td>\n",
       "      <td>0</td>\n",
       "      <td>0</td>\n",
       "    </tr>\n",
       "    <tr>\n",
       "      <th>4</th>\n",
       "      <td>3340</td>\n",
       "      <td>2</td>\n",
       "      <td>8</td>\n",
       "      <td>2</td>\n",
       "      <td>0</td>\n",
       "      <td>1</td>\n",
       "      <td>0</td>\n",
       "      <td>504</td>\n",
       "      <td>0</td>\n",
       "      <td>0</td>\n",
       "      <td>...</td>\n",
       "      <td>235</td>\n",
       "      <td>4</td>\n",
       "      <td>3</td>\n",
       "      <td>1</td>\n",
       "      <td>159</td>\n",
       "      <td>15</td>\n",
       "      <td>0</td>\n",
       "      <td>10</td>\n",
       "      <td>0</td>\n",
       "      <td>0</td>\n",
       "    </tr>\n",
       "  </tbody>\n",
       "</table>\n",
       "<p>5 rows × 46 columns</p>\n",
       "</div>"
      ],
      "text/plain": [
       "   trinket  kills  deaths  assists  largestkillingspree  largestmultikill  \\\n",
       "0     3340      6      10        1                    2                 2   \n",
       "1     3364      0       2       12                    0                 0   \n",
       "2     3340      7       8        5                    5                 2   \n",
       "3     3340      5      11        2                    2                 1   \n",
       "4     3340      2       8        2                    0                 1   \n",
       "\n",
       "   killingsprees  longesttimespentliving  doublekills  triplekills  \\\n",
       "0              2                     643            2            0   \n",
       "1              0                    1116            0            0   \n",
       "2              1                     584            2            0   \n",
       "3              1                     300            0            0   \n",
       "4              0                     504            0            0   \n",
       "\n",
       "      ...      totminionskilled  neutralminionskilled  ownjunglekills  \\\n",
       "0     ...                    42                    69              42   \n",
       "1     ...                    17                     1               1   \n",
       "2     ...                   205                     3               1   \n",
       "3     ...                   164                     6               6   \n",
       "4     ...                   235                     4               3   \n",
       "\n",
       "   enemyjunglekills  totcctimedealt  champlvl  pinksbought  wardsplaced  \\\n",
       "0                27             610        13            0           10   \n",
       "1                 0             211        14            1           17   \n",
       "2                 2             182        14            1           13   \n",
       "3                 0             106        15            0            3   \n",
       "4                 1             159        15            0           10   \n",
       "\n",
       "   wardskilled  firstblood  \n",
       "0            0           0  \n",
       "1            3           0  \n",
       "2            5           0  \n",
       "3            0           0  \n",
       "4            0           0  \n",
       "\n",
       "[5 rows x 46 columns]"
      ]
     },
     "execution_count": 10,
     "metadata": {},
     "output_type": "execute_result"
    }
   ],
   "source": [
    "#Dropping the target column \"win\"\n",
    "X = stats_df.drop(['win'],axis=1)\n",
    "X.head(5)"
   ]
  },
  {
   "cell_type": "code",
   "execution_count": 11,
   "metadata": {},
   "outputs": [
    {
     "data": {
      "text/plain": [
       "0    0\n",
       "1    0\n",
       "2    0\n",
       "3    0\n",
       "4    0\n",
       "Name: win, dtype: int64"
      ]
     },
     "execution_count": 11,
     "metadata": {},
     "output_type": "execute_result"
    }
   ],
   "source": [
    "#Keeping only the target column\n",
    "Y = stats_df.win\n",
    "Y.head(5)"
   ]
  },
  {
   "cell_type": "code",
   "execution_count": 12,
   "metadata": {},
   "outputs": [],
   "source": [
    "#From column to array in order to use it for the model\n",
    "Y = np.ravel(Y)"
   ]
  },
  {
   "cell_type": "code",
   "execution_count": null,
   "metadata": {
    "scrolled": true
   },
   "outputs": [
    {
     "name": "stderr",
     "output_type": "stream",
     "text": [
      "/home/alex/anaconda3/lib/python3.6/site-packages/sklearn/linear_model/logistic.py:1235: UserWarning: 'n_jobs' > 1 does not have any effect when 'solver' is set to 'liblinear'. Got 'n_jobs' = -1.\n",
      "  \" = {}.\".format(self.n_jobs))\n"
     ]
    }
   ],
   "source": [
    "# Create LogisticRegression model\n",
    "log_model = LogisticRegression(n_jobs=-1)\n",
    "\n",
    "# Fit our data\n",
    "log_model.fit(X,Y)\n",
    "\n",
    "# Check our accuracy\n",
    "log_model.score(X,Y)"
   ]
  },
  {
   "cell_type": "code",
   "execution_count": null,
   "metadata": {},
   "outputs": [],
   "source": [
    "#Great! or not. This mean we have 50% accuracy if the model would have guess only \"lose\" so this model is useless.\n",
    "1-Y.mean()"
   ]
  },
  {
   "cell_type": "code",
   "execution_count": null,
   "metadata": {
    "scrolled": true
   },
   "outputs": [],
   "source": [
    "(log_model.coef_)"
   ]
  },
  {
   "cell_type": "code",
   "execution_count": null,
   "metadata": {
    "scrolled": true
   },
   "outputs": [],
   "source": [
    "coeff_df = pd.DataFrame(np.transpose(log_model.coef_),X.columns)"
   ]
  },
  {
   "cell_type": "code",
   "execution_count": null,
   "metadata": {
    "scrolled": true
   },
   "outputs": [],
   "source": [
    "coeff_df.reset_index(inplace=True,drop=False)"
   ]
  },
  {
   "cell_type": "code",
   "execution_count": null,
   "metadata": {
    "scrolled": true
   },
   "outputs": [],
   "source": [
    "coeff_df[0] = coeff_df[0].sort_values(ascending=False)"
   ]
  },
  {
   "cell_type": "code",
   "execution_count": null,
   "metadata": {
    "scrolled": true
   },
   "outputs": [],
   "source": [
    "#To show the coeff of the models\n",
    "coeff_df"
   ]
  },
  {
   "cell_type": "code",
   "execution_count": null,
   "metadata": {},
   "outputs": [],
   "source": [
    "# Split the data\n",
    "X_train, X_test, Y_train, Y_test = train_test_split(X, Y)\n",
    "\n",
    "# Make a new log_model\n",
    "log_model2 = LogisticRegression(n_jobs=-1)\n",
    "\n",
    "# Now fit the new model\n",
    "log_model2.fit(X_train, Y_train)"
   ]
  },
  {
   "cell_type": "code",
   "execution_count": null,
   "metadata": {},
   "outputs": [],
   "source": [
    "# Predict the classes of the testing data set\n",
    "class_predict = log_model2.predict(X_test)\n",
    "\n",
    "# Compare the predicted classes to the actual test classes\n",
    "print metrics.accuracy_score(Y_test,class_predict)"
   ]
  },
  {
   "cell_type": "code",
   "execution_count": null,
   "metadata": {},
   "outputs": [],
   "source": []
  }
 ],
 "metadata": {
  "kernelspec": {
   "display_name": "Python 3",
   "language": "python",
   "name": "python3"
  },
  "language_info": {
   "codemirror_mode": {
    "name": "ipython",
    "version": 3
   },
   "file_extension": ".py",
   "mimetype": "text/x-python",
   "name": "python",
   "nbconvert_exporter": "python",
   "pygments_lexer": "ipython3",
   "version": "3.6.6"
  }
 },
 "nbformat": 4,
 "nbformat_minor": 2
}
