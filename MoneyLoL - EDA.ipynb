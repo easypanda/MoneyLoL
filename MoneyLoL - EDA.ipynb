{
 "cells": [
  {
   "cell_type": "code",
   "execution_count": 1,
   "metadata": {},
   "outputs": [],
   "source": [
    "#For the data\n",
    "import pandas as pd\n",
    "import numpy as np\n",
    "\n",
    "#For visualization\n",
    "import matplotlib.pyplot as plt\n",
    "import seaborn as sns\n",
    "%matplotlib inline"
   ]
  },
  {
   "cell_type": "code",
   "execution_count": 2,
   "metadata": {
    "scrolled": true
   },
   "outputs": [
    {
     "name": "stderr",
     "output_type": "stream",
     "text": [
      "/home/alex/anaconda3/lib/python3.6/site-packages/IPython/core/interactiveshell.py:2785: DtypeWarning: Columns (52) have mixed types. Specify dtype option on import or set low_memory=False.\n",
      "  interactivity=interactivity, compiler=compiler, result=result)\n"
     ]
    }
   ],
   "source": [
    "#Importing the data\n",
    "stats1_df = pd.read_csv(\"./leagueoflegends/stats1.csv\",sep=\",\")\n",
    "stats2_df = pd.read_csv(\"./leagueoflegends/stats2.csv\",sep=\",\")"
   ]
  },
  {
   "cell_type": "code",
   "execution_count": 3,
   "metadata": {},
   "outputs": [],
   "source": [
    "#Concat the two datasets\n",
    "stats_df = pd.concat([stats1_df,stats2_df])"
   ]
  },
  {
   "cell_type": "code",
   "execution_count": 4,
   "metadata": {},
   "outputs": [
    {
     "data": {
      "text/html": [
       "<div>\n",
       "<style scoped>\n",
       "    .dataframe tbody tr th:only-of-type {\n",
       "        vertical-align: middle;\n",
       "    }\n",
       "\n",
       "    .dataframe tbody tr th {\n",
       "        vertical-align: top;\n",
       "    }\n",
       "\n",
       "    .dataframe thead th {\n",
       "        text-align: right;\n",
       "    }\n",
       "</style>\n",
       "<table border=\"1\" class=\"dataframe\">\n",
       "  <thead>\n",
       "    <tr style=\"text-align: right;\">\n",
       "      <th></th>\n",
       "      <th>id</th>\n",
       "      <th>win</th>\n",
       "      <th>item1</th>\n",
       "      <th>item2</th>\n",
       "      <th>item3</th>\n",
       "      <th>item4</th>\n",
       "      <th>item5</th>\n",
       "      <th>item6</th>\n",
       "      <th>trinket</th>\n",
       "      <th>kills</th>\n",
       "      <th>...</th>\n",
       "      <th>neutralminionskilled</th>\n",
       "      <th>ownjunglekills</th>\n",
       "      <th>enemyjunglekills</th>\n",
       "      <th>totcctimedealt</th>\n",
       "      <th>champlvl</th>\n",
       "      <th>pinksbought</th>\n",
       "      <th>wardsbought</th>\n",
       "      <th>wardsplaced</th>\n",
       "      <th>wardskilled</th>\n",
       "      <th>firstblood</th>\n",
       "    </tr>\n",
       "  </thead>\n",
       "  <tbody>\n",
       "    <tr>\n",
       "      <th>0</th>\n",
       "      <td>9</td>\n",
       "      <td>0</td>\n",
       "      <td>3748</td>\n",
       "      <td>2003</td>\n",
       "      <td>3111</td>\n",
       "      <td>3053</td>\n",
       "      <td>1419</td>\n",
       "      <td>1042</td>\n",
       "      <td>3340</td>\n",
       "      <td>6</td>\n",
       "      <td>...</td>\n",
       "      <td>69</td>\n",
       "      <td>42</td>\n",
       "      <td>27</td>\n",
       "      <td>610</td>\n",
       "      <td>13</td>\n",
       "      <td>0</td>\n",
       "      <td>0</td>\n",
       "      <td>10</td>\n",
       "      <td>0</td>\n",
       "      <td>0</td>\n",
       "    </tr>\n",
       "    <tr>\n",
       "      <th>1</th>\n",
       "      <td>10</td>\n",
       "      <td>0</td>\n",
       "      <td>2301</td>\n",
       "      <td>3111</td>\n",
       "      <td>3190</td>\n",
       "      <td>3107</td>\n",
       "      <td>0</td>\n",
       "      <td>0</td>\n",
       "      <td>3364</td>\n",
       "      <td>0</td>\n",
       "      <td>...</td>\n",
       "      <td>1</td>\n",
       "      <td>1</td>\n",
       "      <td>0</td>\n",
       "      <td>211</td>\n",
       "      <td>14</td>\n",
       "      <td>1</td>\n",
       "      <td>0</td>\n",
       "      <td>17</td>\n",
       "      <td>3</td>\n",
       "      <td>0</td>\n",
       "    </tr>\n",
       "    <tr>\n",
       "      <th>2</th>\n",
       "      <td>11</td>\n",
       "      <td>0</td>\n",
       "      <td>1055</td>\n",
       "      <td>3072</td>\n",
       "      <td>3006</td>\n",
       "      <td>3031</td>\n",
       "      <td>3046</td>\n",
       "      <td>1036</td>\n",
       "      <td>3340</td>\n",
       "      <td>7</td>\n",
       "      <td>...</td>\n",
       "      <td>3</td>\n",
       "      <td>1</td>\n",
       "      <td>2</td>\n",
       "      <td>182</td>\n",
       "      <td>14</td>\n",
       "      <td>1</td>\n",
       "      <td>0</td>\n",
       "      <td>13</td>\n",
       "      <td>5</td>\n",
       "      <td>0</td>\n",
       "    </tr>\n",
       "    <tr>\n",
       "      <th>3</th>\n",
       "      <td>12</td>\n",
       "      <td>0</td>\n",
       "      <td>1029</td>\n",
       "      <td>3078</td>\n",
       "      <td>3156</td>\n",
       "      <td>1001</td>\n",
       "      <td>3053</td>\n",
       "      <td>0</td>\n",
       "      <td>3340</td>\n",
       "      <td>5</td>\n",
       "      <td>...</td>\n",
       "      <td>6</td>\n",
       "      <td>6</td>\n",
       "      <td>0</td>\n",
       "      <td>106</td>\n",
       "      <td>15</td>\n",
       "      <td>0</td>\n",
       "      <td>0</td>\n",
       "      <td>3</td>\n",
       "      <td>0</td>\n",
       "      <td>0</td>\n",
       "    </tr>\n",
       "    <tr>\n",
       "      <th>4</th>\n",
       "      <td>13</td>\n",
       "      <td>0</td>\n",
       "      <td>3020</td>\n",
       "      <td>1058</td>\n",
       "      <td>3198</td>\n",
       "      <td>3102</td>\n",
       "      <td>1052</td>\n",
       "      <td>1026</td>\n",
       "      <td>3340</td>\n",
       "      <td>2</td>\n",
       "      <td>...</td>\n",
       "      <td>4</td>\n",
       "      <td>3</td>\n",
       "      <td>1</td>\n",
       "      <td>159</td>\n",
       "      <td>15</td>\n",
       "      <td>0</td>\n",
       "      <td>0</td>\n",
       "      <td>10</td>\n",
       "      <td>0</td>\n",
       "      <td>0</td>\n",
       "    </tr>\n",
       "  </tbody>\n",
       "</table>\n",
       "<p>5 rows × 56 columns</p>\n",
       "</div>"
      ],
      "text/plain": [
       "   id  win  item1  item2  item3  item4  item5  item6  trinket  kills  \\\n",
       "0   9    0   3748   2003   3111   3053   1419   1042     3340      6   \n",
       "1  10    0   2301   3111   3190   3107      0      0     3364      0   \n",
       "2  11    0   1055   3072   3006   3031   3046   1036     3340      7   \n",
       "3  12    0   1029   3078   3156   1001   3053      0     3340      5   \n",
       "4  13    0   3020   1058   3198   3102   1052   1026     3340      2   \n",
       "\n",
       "      ...      neutralminionskilled  ownjunglekills  enemyjunglekills  \\\n",
       "0     ...                        69              42                27   \n",
       "1     ...                         1               1                 0   \n",
       "2     ...                         3               1                 2   \n",
       "3     ...                         6               6                 0   \n",
       "4     ...                         4               3                 1   \n",
       "\n",
       "   totcctimedealt  champlvl  pinksbought  wardsbought  wardsplaced  \\\n",
       "0             610        13            0            0           10   \n",
       "1             211        14            1            0           17   \n",
       "2             182        14            1            0           13   \n",
       "3             106        15            0            0            3   \n",
       "4             159        15            0            0           10   \n",
       "\n",
       "   wardskilled  firstblood  \n",
       "0            0           0  \n",
       "1            3           0  \n",
       "2            5           0  \n",
       "3            0           0  \n",
       "4            0           0  \n",
       "\n",
       "[5 rows x 56 columns]"
      ]
     },
     "execution_count": 4,
     "metadata": {},
     "output_type": "execute_result"
    }
   ],
   "source": [
    "stats_df.head()"
   ]
  },
  {
   "cell_type": "code",
   "execution_count": 5,
   "metadata": {
    "scrolled": false
   },
   "outputs": [
    {
     "name": "stdout",
     "output_type": "stream",
     "text": [
      "<class 'pandas.core.frame.DataFrame'>\n",
      "Int64Index: 1834517 entries, 0 to 834517\n",
      "Data columns (total 56 columns):\n",
      "id                        int64\n",
      "win                       int64\n",
      "item1                     int64\n",
      "item2                     int64\n",
      "item3                     int64\n",
      "item4                     int64\n",
      "item5                     int64\n",
      "item6                     int64\n",
      "trinket                   int64\n",
      "kills                     int64\n",
      "deaths                    int64\n",
      "assists                   int64\n",
      "largestkillingspree       int64\n",
      "largestmultikill          int64\n",
      "killingsprees             int64\n",
      "longesttimespentliving    int64\n",
      "doublekills               int64\n",
      "triplekills               int64\n",
      "quadrakills               int64\n",
      "pentakills                int64\n",
      "legendarykills            int64\n",
      "totdmgdealt               int64\n",
      "magicdmgdealt             int64\n",
      "physicaldmgdealt          int64\n",
      "truedmgdealt              int64\n",
      "largestcrit               int64\n",
      "totdmgtochamp             int64\n",
      "magicdmgtochamp           int64\n",
      "physdmgtochamp            int64\n",
      "truedmgtochamp            int64\n",
      "totheal                   int64\n",
      "totunitshealed            int64\n",
      "dmgselfmit                int64\n",
      "dmgtoobj                  int64\n",
      "dmgtoturrets              int64\n",
      "visionscore               int64\n",
      "timecc                    int64\n",
      "totdmgtaken               int64\n",
      "magicdmgtaken             int64\n",
      "physdmgtaken              int64\n",
      "truedmgtaken              int64\n",
      "goldearned                int64\n",
      "goldspent                 int64\n",
      "turretkills               int64\n",
      "inhibkills                int64\n",
      "totminionskilled          int64\n",
      "neutralminionskilled      int64\n",
      "ownjunglekills            int64\n",
      "enemyjunglekills          int64\n",
      "totcctimedealt            int64\n",
      "champlvl                  int64\n",
      "pinksbought               int64\n",
      "wardsbought               object\n",
      "wardsplaced               int64\n",
      "wardskilled               int64\n",
      "firstblood                int64\n",
      "dtypes: int64(55), object(1)\n",
      "memory usage: 797.8+ MB\n"
     ]
    }
   ],
   "source": [
    "stats_df.info()"
   ]
  },
  {
   "cell_type": "code",
   "execution_count": 6,
   "metadata": {
    "scrolled": true
   },
   "outputs": [],
   "source": [
    "#Dropping the useless columns\n",
    "col_to_drop = [\"item1\",\"item2\",\"item3\",\"item4\",\"item5\",\"item6\",\"timecc\",\"wardsbought\",'id']\n",
    "stats_df.drop(columns=col_to_drop,inplace=True)"
   ]
  },
  {
   "cell_type": "code",
   "execution_count": 7,
   "metadata": {},
   "outputs": [
    {
     "name": "stdout",
     "output_type": "stream",
     "text": [
      "0    50.000027\n",
      "1    49.999973\n",
      "Name: win, dtype: float64\n"
     ]
    },
    {
     "data": {
      "text/plain": [
       "<matplotlib.axes._subplots.AxesSubplot at 0x7f73a34096a0>"
      ]
     },
     "execution_count": 7,
     "metadata": {},
     "output_type": "execute_result"
    },
    {
     "data": {
      "image/png": "[encoded data removed]",
      "text/plain": [
       "<Figure size 432x288 with 1 Axes>"
      ]
     },
     "metadata": {},
     "output_type": "display_data"
    }
   ],
   "source": [
    "#The target that we want to predict is the column win\n",
    "print(stats_df[\"win\"].value_counts() / len(stats_df[\"win\"]) * 100)\n",
    "sns.countplot(\"win\",data=stats_df)"
   ]
  },
  {
   "cell_type": "code",
   "execution_count": 8,
   "metadata": {},
   "outputs": [
    {
     "name": "stdout",
     "output_type": "stream",
     "text": [
      "0    90.074608\n",
      "1     9.925392\n",
      "Name: firstblood, dtype: float64\n"
     ]
    },
    {
     "data": {
      "text/plain": [
       "<matplotlib.axes._subplots.AxesSubplot at 0x7f73a33aae48>"
      ]
     },
     "execution_count": 8,
     "metadata": {},
     "output_type": "execute_result"
    },
    {
     "data": {
      "image/png": "[encoded data removed]",
      "text/plain": [
       "<Figure size 432x288 with 1 Axes>"
      ]
     },
     "metadata": {},
     "output_type": "display_data"
    }
   ],
   "source": [
    "#Let's see if the firstblood can have an impact on the win rate\n",
    "print(stats_df[\"firstblood\"].value_counts() / len(stats_df[\"firstblood\"]) * 100)\n",
    "sns.countplot(\"firstblood\",data=stats_df,hue=\"win\")"
   ]
  },
  {
   "cell_type": "code",
   "execution_count": 9,
   "metadata": {},
   "outputs": [
    {
     "name": "stderr",
     "output_type": "stream",
     "text": [
      "/home/alex/anaconda3/lib/python3.6/site-packages/sklearn/cross_validation.py:41: DeprecationWarning: This module was deprecated in version 0.18 in favor of the model_selection module into which all the refactored classes and functions are moved. Also note that the interface of the new CV iterators are different from that of this module. This module will be removed in 0.20.\n",
      "  \"This module will be removed in 0.20.\", DeprecationWarning)\n"
     ]
    }
   ],
   "source": [
    "#Importing the libraries for the LogisticRegression\n",
    "from sklearn.linear_model import LogisticRegression\n",
    "from sklearn.linear_model import LogisticRegressionCV\n",
    "from sklearn.cross_validation import train_test_split\n",
    "from sklearn import metrics"
   ]
  },
  {
   "cell_type": "code",
   "execution_count": 10,
   "metadata": {},
   "outputs": [
    {
     "data": {
      "text/html": [
       "<div>\n",
       "<style scoped>\n",
       "    .dataframe tbody tr th:only-of-type {\n",
       "        vertical-align: middle;\n",
       "    }\n",
       "\n",
       "    .dataframe tbody tr th {\n",
       "        vertical-align: top;\n",
       "    }\n",
       "\n",
       "    .dataframe thead th {\n",
       "        text-align: right;\n",
       "    }\n",
       "</style>\n",
       "<table border=\"1\" class=\"dataframe\">\n",
       "  <thead>\n",
       "    <tr style=\"text-align: right;\">\n",
       "      <th></th>\n",
       "      <th>trinket</th>\n",
       "      <th>kills</th>\n",
       "      <th>deaths</th>\n",
       "      <th>assists</th>\n",
       "      <th>largestkillingspree</th>\n",
       "      <th>largestmultikill</th>\n",
       "      <th>killingsprees</th>\n",
       "      <th>longesttimespentliving</th>\n",
       "      <th>doublekills</th>\n",
       "      <th>triplekills</th>\n",
       "      <th>...</th>\n",
       "      <th>totminionskilled</th>\n",
       "      <th>neutralminionskilled</th>\n",
       "      <th>ownjunglekills</th>\n",
       "      <th>enemyjunglekills</th>\n",
       "      <th>totcctimedealt</th>\n",
       "      <th>champlvl</th>\n",
       "      <th>pinksbought</th>\n",
       "      <th>wardsplaced</th>\n",
       "      <th>wardskilled</th>\n",
       "      <th>firstblood</th>\n",
       "    </tr>\n",
       "  </thead>\n",
       "  <tbody>\n",
       "    <tr>\n",
       "      <th>0</th>\n",
       "      <td>3340</td>\n",
       "      <td>6</td>\n",
       "      <td>10</td>\n",
       "      <td>1</td>\n",
       "      <td>2</td>\n",
       "      <td>2</td>\n",
       "      <td>2</td>\n",
       "      <td>643</td>\n",
       "      <td>2</td>\n",
       "      <td>0</td>\n",
       "      <td>...</td>\n",
       "      <td>42</td>\n",
       "      <td>69</td>\n",
       "      <td>42</td>\n",
       "      <td>27</td>\n",
       "      <td>610</td>\n",
       "      <td>13</td>\n",
       "      <td>0</td>\n",
       "      <td>10</td>\n",
       "      <td>0</td>\n",
       "      <td>0</td>\n",
       "    </tr>\n",
       "    <tr>\n",
       "      <th>1</th>\n",
       "      <td>3364</td>\n",
       "      <td>0</td>\n",
       "      <td>2</td>\n",
       "      <td>12</td>\n",
       "      <td>0</td>\n",
       "      <td>0</td>\n",
       "      <td>0</td>\n",
       "      <td>1116</td>\n",
       "      <td>0</td>\n",
       "      <td>0</td>\n",
       "      <td>...</td>\n",
       "      <td>17</td>\n",
       "      <td>1</td>\n",
       "      <td>1</td>\n",
       "      <td>0</td>\n",
       "      <td>211</td>\n",
       "      <td>14</td>\n",
       "      <td>1</td>\n",
       "      <td>17</td>\n",
       "      <td>3</td>\n",
       "      <td>0</td>\n",
       "    </tr>\n",
       "    <tr>\n",
       "      <th>2</th>\n",
       "      <td>3340</td>\n",
       "      <td>7</td>\n",
       "      <td>8</td>\n",
       "      <td>5</td>\n",
       "      <td>5</td>\n",
       "      <td>2</td>\n",
       "      <td>1</td>\n",
       "      <td>584</td>\n",
       "      <td>2</td>\n",
       "      <td>0</td>\n",
       "      <td>...</td>\n",
       "      <td>205</td>\n",
       "      <td>3</td>\n",
       "      <td>1</td>\n",
       "      <td>2</td>\n",
       "      <td>182</td>\n",
       "      <td>14</td>\n",
       "      <td>1</td>\n",
       "      <td>13</td>\n",
       "      <td>5</td>\n",
       "      <td>0</td>\n",
       "    </tr>\n",
       "    <tr>\n",
       "      <th>3</th>\n",
       "      <td>3340</td>\n",
       "      <td>5</td>\n",
       "      <td>11</td>\n",
       "      <td>2</td>\n",
       "      <td>2</td>\n",
       "      <td>1</td>\n",
       "      <td>1</td>\n",
       "      <td>300</td>\n",
       "      <td>0</td>\n",
       "      <td>0</td>\n",
       "      <td>...</td>\n",
       "      <td>164</td>\n",
       "      <td>6</td>\n",
       "      <td>6</td>\n",
       "      <td>0</td>\n",
       "      <td>106</td>\n",
       "      <td>15</td>\n",
       "      <td>0</td>\n",
       "      <td>3</td>\n",
       "      <td>0</td>\n",
       "      <td>0</td>\n",
       "    </tr>\n",
       "    <tr>\n",
       "      <th>4</th>\n",
       "      <td>3340</td>\n",
       "      <td>2</td>\n",
       "      <td>8</td>\n",
       "      <td>2</td>\n",
       "      <td>0</td>\n",
       "      <td>1</td>\n",
       "      <td>0</td>\n",
       "      <td>504</td>\n",
       "      <td>0</td>\n",
       "      <td>0</td>\n",
       "      <td>...</td>\n",
       "      <td>235</td>\n",
       "      <td>4</td>\n",
       "      <td>3</td>\n",
       "      <td>1</td>\n",
       "      <td>159</td>\n",
       "      <td>15</td>\n",
       "      <td>0</td>\n",
       "      <td>10</td>\n",
       "      <td>0</td>\n",
       "      <td>0</td>\n",
       "    </tr>\n",
       "  </tbody>\n",
       "</table>\n",
       "<p>5 rows × 46 columns</p>\n",
       "</div>"
      ],
      "text/plain": [
       "   trinket  kills  deaths  assists  largestkillingspree  largestmultikill  \\\n",
       "0     3340      6      10        1                    2                 2   \n",
       "1     3364      0       2       12                    0                 0   \n",
       "2     3340      7       8        5                    5                 2   \n",
       "3     3340      5      11        2                    2                 1   \n",
       "4     3340      2       8        2                    0                 1   \n",
       "\n",
       "   killingsprees  longesttimespentliving  doublekills  triplekills  \\\n",
       "0              2                     643            2            0   \n",
       "1              0                    1116            0            0   \n",
       "2              1                     584            2            0   \n",
       "3              1                     300            0            0   \n",
       "4              0                     504            0            0   \n",
       "\n",
       "      ...      totminionskilled  neutralminionskilled  ownjunglekills  \\\n",
       "0     ...                    42                    69              42   \n",
       "1     ...                    17                     1               1   \n",
       "2     ...                   205                     3               1   \n",
       "3     ...                   164                     6               6   \n",
       "4     ...                   235                     4               3   \n",
       "\n",
       "   enemyjunglekills  totcctimedealt  champlvl  pinksbought  wardsplaced  \\\n",
       "0                27             610        13            0           10   \n",
       "1                 0             211        14            1           17   \n",
       "2                 2             182        14            1           13   \n",
       "3                 0             106        15            0            3   \n",
       "4                 1             159        15            0           10   \n",
       "\n",
       "   wardskilled  firstblood  \n",
       "0            0           0  \n",
       "1            3           0  \n",
       "2            5           0  \n",
       "3            0           0  \n",
       "4            0           0  \n",
       "\n",
       "[5 rows x 46 columns]"
      ]
     },
     "execution_count": 10,
     "metadata": {},
     "output_type": "execute_result"
    }
   ],
   "source": [
    "#Dropping the target column \"win\"\n",
    "X = stats_df.drop(['win'],axis=1)\n",
    "X.head(5)"
   ]
  },
  {
   "cell_type": "code",
   "execution_count": 11,
   "metadata": {},
   "outputs": [
    {
     "data": {
      "text/plain": [
       "0    0\n",
       "1    0\n",
       "2    0\n",
       "3    0\n",
       "4    0\n",
       "Name: win, dtype: int64"
      ]
     },
     "execution_count": 11,
     "metadata": {},
     "output_type": "execute_result"
    }
   ],
   "source": [
    "#Keeping only the target column\n",
    "Y = stats_df.win\n",
    "Y.head(5)"
   ]
  },
  {
   "cell_type": "code",
   "execution_count": 12,
   "metadata": {},
   "outputs": [],
   "source": [
    "#From column to array in order to use it for the model\n",
    "Y = np.ravel(Y)"
   ]
  },
  {
   "cell_type": "code",
   "execution_count": 13,
   "metadata": {
    "scrolled": true
   },
   "outputs": [
    {
     "name": "stderr",
     "output_type": "stream",
     "text": [
      "/home/alex/anaconda3/lib/python3.6/site-packages/sklearn/linear_model/logistic.py:1235: UserWarning: 'n_jobs' > 1 does not have any effect when 'solver' is set to 'liblinear'. Got 'n_jobs' = -1.\n",
      "  \" = {}.\".format(self.n_jobs))\n"
     ]
    },
    {
     "data": {
      "text/plain": [
       "0.8228961628592159"
      ]
     },
     "execution_count": 13,
     "metadata": {},
     "output_type": "execute_result"
    }
   ],
   "source": [
    "# Create LogisticRegression model\n",
    "log_model = LogisticRegression(n_jobs=-1)\n",
    "\n",
    "# Fit our data\n",
    "log_model.fit(X,Y)\n",
    "\n",
    "# Check our accuracy\n",
    "log_model.score(X,Y)"
   ]
  },
  {
   "cell_type": "code",
   "execution_count": 14,
   "metadata": {},
   "outputs": [
    {
     "data": {
      "text/plain": [
       "0.5000002725513037"
      ]
     },
     "execution_count": 14,
     "metadata": {},
     "output_type": "execute_result"
    }
   ],
   "source": [
    "#Great! or not. This mean we have 50% accuracy if the model would have guess only \"lose\" so this model is useless.\n",
    "1-Y.mean()"
   ]
  },
  {
   "cell_type": "code",
   "execution_count": 15,
   "metadata": {
    "scrolled": true
   },
   "outputs": [
    {
     "data": {
      "text/plain": [
       "array([[-8.93242722e-04,  8.95467049e-06, -3.42995590e-05,\n",
       "         3.31680287e-05,  8.74185687e-06,  3.29311543e-07,\n",
       "         2.64525956e-06, -4.75427726e-04,  1.12855329e-06,\n",
       "         2.55099065e-07,  4.21210291e-08,  8.50887632e-09,\n",
       "         2.74622532e-12, -5.73941936e-06, -4.45187789e-06,\n",
       "        -7.08628030e-06,  5.73955289e-06, -5.51789696e-04,\n",
       "        -3.44089609e-05, -1.38513316e-05,  1.21766989e-05,\n",
       "        -3.31918025e-05,  1.03735991e-04, -1.03452880e-05,\n",
       "        -1.76732885e-05,  6.03838104e-05,  2.71348015e-04,\n",
       "        -6.83622982e-05, -9.66358856e-05, -6.82722263e-05,\n",
       "         8.06135688e-06, -3.55409825e-05,  1.48710261e-03,\n",
       "        -9.57081761e-04,  7.21866113e-06,  3.26622549e-06,\n",
       "        -2.63308948e-04,  9.19312314e-05,  4.08266625e-05,\n",
       "         5.11045689e-05,  1.01090800e-04, -7.31276748e-06,\n",
       "        -1.45989555e-06, -2.56930771e-05, -5.80717296e-06,\n",
       "         3.15533741e-07]])"
      ]
     },
     "execution_count": 15,
     "metadata": {},
     "output_type": "execute_result"
    }
   ],
   "source": [
    "(log_model.coef_)"
   ]
  },
  {
   "cell_type": "code",
   "execution_count": 16,
   "metadata": {
    "scrolled": true
   },
   "outputs": [],
   "source": [
    "coeff_df = pd.DataFrame(np.transpose(log_model.coef_),X.columns)"
   ]
  },
  {
   "cell_type": "code",
   "execution_count": 17,
   "metadata": {
    "scrolled": true
   },
   "outputs": [],
   "source": [
    "coeff_df.reset_index(inplace=True,drop=False)"
   ]
  },
  {
   "cell_type": "code",
   "execution_count": 18,
   "metadata": {
    "scrolled": true
   },
   "outputs": [],
   "source": [
    "coeff_df[0] = coeff_df[0].sort_values(ascending=False)"
   ]
  },
  {
   "cell_type": "code",
   "execution_count": 43,
   "metadata": {},
   "outputs": [
    {
     "data": {
      "text/html": [
       "<div>\n",
       "<style scoped>\n",
       "    .dataframe tbody tr th:only-of-type {\n",
       "        vertical-align: middle;\n",
       "    }\n",
       "\n",
       "    .dataframe tbody tr th {\n",
       "        vertical-align: top;\n",
       "    }\n",
       "\n",
       "    .dataframe thead th {\n",
       "        text-align: right;\n",
       "    }\n",
       "</style>\n",
       "<table border=\"1\" class=\"dataframe\">\n",
       "  <thead>\n",
       "    <tr style=\"text-align: right;\">\n",
       "      <th></th>\n",
       "      <th>index</th>\n",
       "      <th>Coeff</th>\n",
       "    </tr>\n",
       "  </thead>\n",
       "  <tbody>\n",
       "    <tr>\n",
       "      <th>33</th>\n",
       "      <td>goldspent</td>\n",
       "      <td>-0.0009571</td>\n",
       "    </tr>\n",
       "    <tr>\n",
       "      <th>0</th>\n",
       "      <td>trinket</td>\n",
       "      <td>-0.0008932</td>\n",
       "    </tr>\n",
       "    <tr>\n",
       "      <th>17</th>\n",
       "      <td>largestcrit</td>\n",
       "      <td>-0.0005518</td>\n",
       "    </tr>\n",
       "    <tr>\n",
       "      <th>7</th>\n",
       "      <td>longesttimespentliving</td>\n",
       "      <td>-0.0004754</td>\n",
       "    </tr>\n",
       "    <tr>\n",
       "      <th>36</th>\n",
       "      <td>totminionskilled</td>\n",
       "      <td>-0.0002633</td>\n",
       "    </tr>\n",
       "    <tr>\n",
       "      <th>28</th>\n",
       "      <td>totdmgtaken</td>\n",
       "      <td>-0.0000966</td>\n",
       "    </tr>\n",
       "    <tr>\n",
       "      <th>27</th>\n",
       "      <td>visionscore</td>\n",
       "      <td>-0.0000684</td>\n",
       "    </tr>\n",
       "    <tr>\n",
       "      <th>29</th>\n",
       "      <td>magicdmgtaken</td>\n",
       "      <td>-0.0000683</td>\n",
       "    </tr>\n",
       "    <tr>\n",
       "      <th>31</th>\n",
       "      <td>truedmgtaken</td>\n",
       "      <td>-0.0000355</td>\n",
       "    </tr>\n",
       "    <tr>\n",
       "      <th>18</th>\n",
       "      <td>totdmgtochamp</td>\n",
       "      <td>-0.0000344</td>\n",
       "    </tr>\n",
       "    <tr>\n",
       "      <th>2</th>\n",
       "      <td>deaths</td>\n",
       "      <td>-0.0000343</td>\n",
       "    </tr>\n",
       "    <tr>\n",
       "      <th>21</th>\n",
       "      <td>truedmgtochamp</td>\n",
       "      <td>-0.0000332</td>\n",
       "    </tr>\n",
       "    <tr>\n",
       "      <th>43</th>\n",
       "      <td>wardsplaced</td>\n",
       "      <td>-0.0000257</td>\n",
       "    </tr>\n",
       "    <tr>\n",
       "      <th>24</th>\n",
       "      <td>dmgselfmit</td>\n",
       "      <td>-0.0000177</td>\n",
       "    </tr>\n",
       "    <tr>\n",
       "      <th>19</th>\n",
       "      <td>magicdmgtochamp</td>\n",
       "      <td>-0.0000139</td>\n",
       "    </tr>\n",
       "    <tr>\n",
       "      <th>23</th>\n",
       "      <td>totunitshealed</td>\n",
       "      <td>-0.0000103</td>\n",
       "    </tr>\n",
       "    <tr>\n",
       "      <th>41</th>\n",
       "      <td>champlvl</td>\n",
       "      <td>-0.0000073</td>\n",
       "    </tr>\n",
       "    <tr>\n",
       "      <th>15</th>\n",
       "      <td>physicaldmgdealt</td>\n",
       "      <td>-0.0000071</td>\n",
       "    </tr>\n",
       "    <tr>\n",
       "      <th>44</th>\n",
       "      <td>wardskilled</td>\n",
       "      <td>-0.0000058</td>\n",
       "    </tr>\n",
       "    <tr>\n",
       "      <th>13</th>\n",
       "      <td>totdmgdealt</td>\n",
       "      <td>-0.0000057</td>\n",
       "    </tr>\n",
       "    <tr>\n",
       "      <th>14</th>\n",
       "      <td>magicdmgdealt</td>\n",
       "      <td>-0.0000045</td>\n",
       "    </tr>\n",
       "    <tr>\n",
       "      <th>42</th>\n",
       "      <td>pinksbought</td>\n",
       "      <td>-0.0000015</td>\n",
       "    </tr>\n",
       "    <tr>\n",
       "      <th>12</th>\n",
       "      <td>legendarykills</td>\n",
       "      <td>0.0000000</td>\n",
       "    </tr>\n",
       "    <tr>\n",
       "      <th>11</th>\n",
       "      <td>pentakills</td>\n",
       "      <td>0.0000000</td>\n",
       "    </tr>\n",
       "    <tr>\n",
       "      <th>10</th>\n",
       "      <td>quadrakills</td>\n",
       "      <td>0.0000000</td>\n",
       "    </tr>\n",
       "    <tr>\n",
       "      <th>9</th>\n",
       "      <td>triplekills</td>\n",
       "      <td>0.0000003</td>\n",
       "    </tr>\n",
       "    <tr>\n",
       "      <th>45</th>\n",
       "      <td>firstblood</td>\n",
       "      <td>0.0000003</td>\n",
       "    </tr>\n",
       "    <tr>\n",
       "      <th>5</th>\n",
       "      <td>largestmultikill</td>\n",
       "      <td>0.0000003</td>\n",
       "    </tr>\n",
       "    <tr>\n",
       "      <th>8</th>\n",
       "      <td>doublekills</td>\n",
       "      <td>0.0000011</td>\n",
       "    </tr>\n",
       "    <tr>\n",
       "      <th>6</th>\n",
       "      <td>killingsprees</td>\n",
       "      <td>0.0000026</td>\n",
       "    </tr>\n",
       "    <tr>\n",
       "      <th>35</th>\n",
       "      <td>inhibkills</td>\n",
       "      <td>0.0000033</td>\n",
       "    </tr>\n",
       "    <tr>\n",
       "      <th>16</th>\n",
       "      <td>truedmgdealt</td>\n",
       "      <td>0.0000057</td>\n",
       "    </tr>\n",
       "    <tr>\n",
       "      <th>34</th>\n",
       "      <td>turretkills</td>\n",
       "      <td>0.0000072</td>\n",
       "    </tr>\n",
       "    <tr>\n",
       "      <th>30</th>\n",
       "      <td>physdmgtaken</td>\n",
       "      <td>0.0000081</td>\n",
       "    </tr>\n",
       "    <tr>\n",
       "      <th>4</th>\n",
       "      <td>largestkillingspree</td>\n",
       "      <td>0.0000087</td>\n",
       "    </tr>\n",
       "    <tr>\n",
       "      <th>1</th>\n",
       "      <td>kills</td>\n",
       "      <td>0.0000090</td>\n",
       "    </tr>\n",
       "    <tr>\n",
       "      <th>20</th>\n",
       "      <td>physdmgtochamp</td>\n",
       "      <td>0.0000122</td>\n",
       "    </tr>\n",
       "    <tr>\n",
       "      <th>3</th>\n",
       "      <td>assists</td>\n",
       "      <td>0.0000332</td>\n",
       "    </tr>\n",
       "    <tr>\n",
       "      <th>38</th>\n",
       "      <td>ownjunglekills</td>\n",
       "      <td>0.0000408</td>\n",
       "    </tr>\n",
       "    <tr>\n",
       "      <th>39</th>\n",
       "      <td>enemyjunglekills</td>\n",
       "      <td>0.0000511</td>\n",
       "    </tr>\n",
       "    <tr>\n",
       "      <th>25</th>\n",
       "      <td>dmgtoobj</td>\n",
       "      <td>0.0000604</td>\n",
       "    </tr>\n",
       "    <tr>\n",
       "      <th>37</th>\n",
       "      <td>neutralminionskilled</td>\n",
       "      <td>0.0000919</td>\n",
       "    </tr>\n",
       "    <tr>\n",
       "      <th>40</th>\n",
       "      <td>totcctimedealt</td>\n",
       "      <td>0.0001011</td>\n",
       "    </tr>\n",
       "    <tr>\n",
       "      <th>22</th>\n",
       "      <td>totheal</td>\n",
       "      <td>0.0001037</td>\n",
       "    </tr>\n",
       "    <tr>\n",
       "      <th>26</th>\n",
       "      <td>dmgtoturrets</td>\n",
       "      <td>0.0002713</td>\n",
       "    </tr>\n",
       "    <tr>\n",
       "      <th>32</th>\n",
       "      <td>goldearned</td>\n",
       "      <td>0.0014871</td>\n",
       "    </tr>\n",
       "  </tbody>\n",
       "</table>\n",
       "</div>"
      ],
      "text/plain": [
       "                     index      Coeff\n",
       "33               goldspent -0.0009571\n",
       "0                  trinket -0.0008932\n",
       "17             largestcrit -0.0005518\n",
       "7   longesttimespentliving -0.0004754\n",
       "36        totminionskilled -0.0002633\n",
       "28             totdmgtaken -0.0000966\n",
       "27             visionscore -0.0000684\n",
       "29           magicdmgtaken -0.0000683\n",
       "31            truedmgtaken -0.0000355\n",
       "18           totdmgtochamp -0.0000344\n",
       "2                   deaths -0.0000343\n",
       "21          truedmgtochamp -0.0000332\n",
       "43             wardsplaced -0.0000257\n",
       "24              dmgselfmit -0.0000177\n",
       "19         magicdmgtochamp -0.0000139\n",
       "23          totunitshealed -0.0000103\n",
       "41                champlvl -0.0000073\n",
       "15        physicaldmgdealt -0.0000071\n",
       "44             wardskilled -0.0000058\n",
       "13             totdmgdealt -0.0000057\n",
       "14           magicdmgdealt -0.0000045\n",
       "42             pinksbought -0.0000015\n",
       "12          legendarykills  0.0000000\n",
       "11              pentakills  0.0000000\n",
       "10             quadrakills  0.0000000\n",
       "9              triplekills  0.0000003\n",
       "45              firstblood  0.0000003\n",
       "5         largestmultikill  0.0000003\n",
       "8              doublekills  0.0000011\n",
       "6            killingsprees  0.0000026\n",
       "35              inhibkills  0.0000033\n",
       "16            truedmgdealt  0.0000057\n",
       "34             turretkills  0.0000072\n",
       "30            physdmgtaken  0.0000081\n",
       "4      largestkillingspree  0.0000087\n",
       "1                    kills  0.0000090\n",
       "20          physdmgtochamp  0.0000122\n",
       "3                  assists  0.0000332\n",
       "38          ownjunglekills  0.0000408\n",
       "39        enemyjunglekills  0.0000511\n",
       "25                dmgtoobj  0.0000604\n",
       "37    neutralminionskilled  0.0000919\n",
       "40          totcctimedealt  0.0001011\n",
       "22                 totheal  0.0001037\n",
       "26            dmgtoturrets  0.0002713\n",
       "32              goldearned  0.0014871"
      ]
     },
     "execution_count": 43,
     "metadata": {},
     "output_type": "execute_result"
    }
   ],
   "source": [
    "#To show the coeff of the models\n",
    "pd.options.display.float_format = '{:.7f}'.format\n",
    "coeff_df.rename(columns={0:\"Coeff\"},inplace=True)\n",
    "coeff_df.sort_values(by=\"Coeff\")"
   ]
  },
  {
   "cell_type": "code",
   "execution_count": 20,
   "metadata": {
    "scrolled": true
   },
   "outputs": [
    {
     "name": "stderr",
     "output_type": "stream",
     "text": [
      "/home/alex/anaconda3/lib/python3.6/site-packages/sklearn/linear_model/logistic.py:1235: UserWarning: 'n_jobs' > 1 does not have any effect when 'solver' is set to 'liblinear'. Got 'n_jobs' = -1.\n",
      "  \" = {}.\".format(self.n_jobs))\n"
     ]
    },
    {
     "data": {
      "text/plain": [
       "LogisticRegression(C=1.0, class_weight=None, dual=False, fit_intercept=True,\n",
       "          intercept_scaling=1, max_iter=100, multi_class='ovr', n_jobs=-1,\n",
       "          penalty='l2', random_state=None, solver='liblinear', tol=0.0001,\n",
       "          verbose=0, warm_start=False)"
      ]
     },
     "execution_count": 20,
     "metadata": {},
     "output_type": "execute_result"
    }
   ],
   "source": [
    "# Split the data\n",
    "X_train, X_test, Y_train, Y_test = train_test_split(X, Y)\n",
    "\n",
    "# Make a new log_model\n",
    "log_model2 = LogisticRegression(n_jobs=-1)\n",
    "\n",
    "# Now fit the new model\n",
    "log_model2.fit(X_train, Y_train)"
   ]
  },
  {
   "cell_type": "code",
   "execution_count": 22,
   "metadata": {},
   "outputs": [
    {
     "name": "stdout",
     "output_type": "stream",
     "text": [
      "0.8284586703878943\n"
     ]
    }
   ],
   "source": [
    "# Predict the classes of the testing data set\n",
    "class_predict = log_model2.predict(X_test)\n",
    "\n",
    "# Compare the predicted classes to the actual test classes\n",
    "print (metrics.accuracy_score(Y_test,class_predict))"
   ]
  },
  {
   "cell_type": "code",
   "execution_count": 27,
   "metadata": {},
   "outputs": [
    {
     "name": "stdout",
     "output_type": "stream",
     "text": [
      "Mean accuracy score: 0.828\n",
      "Accuracy : 0.8284586703878943\n",
      "             precision    recall  f1-score   support\n",
      "\n",
      "          0       0.81      0.85      0.83    228998\n",
      "          1       0.84      0.81      0.82    229632\n",
      "\n",
      "avg / total       0.83      0.83      0.83    458630\n",
      "\n",
      "        0       1\n",
      "0  194695   34303\n",
      "1   44371  185261\n"
     ]
    },
    {
     "data": {
      "image/png": "[encoded data removed]",
      "text/plain": [
       "<Figure size 576x576 with 1 Axes>"
      ]
     },
     "metadata": {},
     "output_type": "display_data"
    }
   ],
   "source": [
    "from sklearn.metrics import accuracy_score\n",
    "from sklearn import metrics\n",
    "from sklearn.model_selection import cross_validate\n",
    "from sklearn.metrics import recall_score\n",
    "from sklearn.metrics import confusion_matrix\n",
    "from sklearn.metrics import classification_report\n",
    "from sklearn.metrics import roc_curve, auc\n",
    "class_names = np.unique(Y)\n",
    "\n",
    "\n",
    "accuracy = metrics.accuracy_score(Y_test,class_predict)\n",
    "print(f'Mean accuracy score: {accuracy:.3}')\n",
    "print(\"Accuracy :\",metrics.accuracy_score(Y_test,class_predict))\n",
    "\n",
    "cm = pd.DataFrame(confusion_matrix(Y_test,class_predict), columns= class_names)\n",
    "print(classification_report(Y_test,class_predict))\n",
    "print(cm)\n",
    "fpr, tpr, _ = roc_curve(Y_test, class_predict)\n",
    "roc_auc = auc(fpr, tpr)\n",
    "\n",
    "plt.figure(figsize=(8,8))\n",
    "plt.plot(fpr, tpr, color='darkorange',\n",
    "        lw=2, label='ROC curve (area = %0.2f)' % roc_auc)\n",
    "plt.plot([0, 1], [0, 1], color='navy', lw=2, linestyle='--')\n",
    "plt.xlim([0.0, 1.0])\n",
    "plt.ylim([0.0, 1.05])\n",
    "plt.xlabel('False Positive Rate')\n",
    "plt.ylabel('True Positive Rate')\n",
    "plt.title('ROC Curve')\n",
    "plt.legend(loc=\"lower right\")\n",
    "plt.show()"
   ]
  }
 ],
 "metadata": {
  "kernelspec": {
   "display_name": "Python 3",
   "language": "python",
   "name": "python3"
  },
  "language_info": {
   "codemirror_mode": {
    "name": "ipython",
    "version": 3
   },
   "file_extension": ".py",
   "mimetype": "text/x-python",
   "name": "python",
   "nbconvert_exporter": "python",
   "pygments_lexer": "ipython3",
   "version": "3.6.6"
  }
 },
 "nbformat": 4,
 "nbformat_minor": 2
}
